{
 "cells": [
  {
   "cell_type": "code",
   "execution_count": 5,
   "metadata": {},
   "outputs": [],
   "source": [
    "import numpy as np\n",
    "import pandas as pd "
   ]
  },
  {
   "cell_type": "code",
   "execution_count": null,
   "metadata": {},
   "outputs": [],
   "source": [
    "#embryonic neural net grows into final neural net\n",
    "#embryonic neural net encoded by chromosome 0: collection of NEAT-like genes \n",
    "#each embyronic neuron has a networn deefined growhh procdess encoded by NEAT-leikn chromosome\n",
    "\n",
    "class Connnect_Gene: \n",
    "    def __init__(self, gene_id, IN, OUT, weight, enabled=True):\n",
    "        \"\"\"\n",
    "        Gene class represents a single connnection in the chromosome of an embryonic neural network.\n",
    "        Each gene defines a connection between two neurons and a weight.\n",
    "\n",
    "        :param gene_id: Unique identifier for the gene\n",
    "        :param activation_function: Activation function to be used by the neuron (e.g., 'relu', 'sigmoid')\n",
    "        :param connection_strength: Weight or strength of the connection defined by this gene\n",
    "        \"\"\"\n",
    "        self.gene_id = gene_id  # Unique identifier for the gene \n",
    "        self.IN = IN  # Input neuron \n",
    "        self.OUT = OUT # Output neuron\n",
    "        self.weight = weight  #weight\n",
    "        self.enabled = enabled # Boolean indicating if the gene is enabled or disabled\n",
    "\n",
    "    def show(self):\n",
    "        \"\"\"\n",
    "        Print gene information. currently uses pandas \n",
    "        \"\"\"\n",
    "    \n",
    "        # Create a DataFrame to display gene information\n",
    "        df = pd.DataFrame({\n",
    "            'Gene ID': [self.gene_id],\n",
    "            'Input Neuron': [self.IN],\n",
    "            'Output Neuron': [self.OUT],\n",
    "            'Weight': [self.weight],\n",
    "            'Enabled': [self.enabled]\n",
    "        })\n",
    "        display(df)  # Hide the index for better readability\n",
    "\n",
    "class Chromosome:\n",
    "    def __init__(self, chromosome_id):\n",
    "        \"\"\"\n",
    "        Chromosome class represents a collection of genes\n",
    "        Each chromosome can be thought of as a set of instructions for growing the neural network.\n",
    "\n",
    "        :param chromosome_id: Unique identifier for the chromosome\n",
    "        \"\"\"\n",
    "        self.chromosome_id = chromosome_id  # Unique identifier for the chromosome\n",
    "        self.genes = []  # List to hold genes in this chromosome\n",
    "\n",
    "    def add(self, gene):\n",
    "        \"\"\"\n",
    "        Add a gene to the chromosome.\n",
    "\n",
    "        :param gene: Gene object to be added\n",
    "        \"\"\"\n",
    "        self.genes.append(gene)  # Append the gene to the list of genes "
   ]
  },
  {
   "cell_type": "code",
   "execution_count": 51,
   "metadata": {},
   "outputs": [
    {
     "data": {
      "text/html": [
       "<div>\n",
       "<style scoped>\n",
       "    .dataframe tbody tr th:only-of-type {\n",
       "        vertical-align: middle;\n",
       "    }\n",
       "\n",
       "    .dataframe tbody tr th {\n",
       "        vertical-align: top;\n",
       "    }\n",
       "\n",
       "    .dataframe thead th {\n",
       "        text-align: right;\n",
       "    }\n",
       "</style>\n",
       "<table border=\"1\" class=\"dataframe\">\n",
       "  <thead>\n",
       "    <tr style=\"text-align: right;\">\n",
       "      <th></th>\n",
       "      <th>Gene ID</th>\n",
       "      <th>Input Neuron</th>\n",
       "      <th>Output Neuron</th>\n",
       "      <th>Weight</th>\n",
       "      <th>Enabled</th>\n",
       "    </tr>\n",
       "  </thead>\n",
       "  <tbody>\n",
       "    <tr>\n",
       "      <th>0</th>\n",
       "      <td>0</td>\n",
       "      <td>1</td>\n",
       "      <td>2</td>\n",
       "      <td>0.5</td>\n",
       "      <td>True</td>\n",
       "    </tr>\n",
       "  </tbody>\n",
       "</table>\n",
       "</div>"
      ],
      "text/plain": [
       "   Gene ID Input Neuron Output Neuron  Weight  Enabled\n",
       "0        0            1             2     0.5     True"
      ]
     },
     "metadata": {},
     "output_type": "display_data"
    }
   ],
   "source": [
    "gene1 = Connnect_Gene(gene_id=0, IN='1', OUT='2', weight=0.5)\n",
    "gene1.show()"
   ]
  }
 ],
 "metadata": {
  "kernelspec": {
   "display_name": "Python 3",
   "language": "python",
   "name": "python3"
  },
  "language_info": {
   "codemirror_mode": {
    "name": "ipython",
    "version": 3
   },
   "file_extension": ".py",
   "mimetype": "text/x-python",
   "name": "python",
   "nbconvert_exporter": "python",
   "pygments_lexer": "ipython3",
   "version": "3.12.1"
  }
 },
 "nbformat": 4,
 "nbformat_minor": 2
}
